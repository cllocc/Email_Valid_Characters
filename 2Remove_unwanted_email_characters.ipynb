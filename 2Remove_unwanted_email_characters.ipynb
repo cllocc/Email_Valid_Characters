{
 "cells": [
  {
   "cell_type": "markdown",
   "metadata": {},
   "source": [
    "### Overview:\n",
    "<p>\n",
    "    <li>In this instance we will be verifying if emails have valid characters.</li>\n",
    "<li>First by checking if they have an “@” symbol.</li>\n",
    "<li>Secondly replacing non valid characters such as #^% etc.</li>"
   ]
  },
  {
   "cell_type": "markdown",
   "metadata": {},
   "source": [
    "### Importing Packages"
   ]
  },
  {
   "cell_type": "code",
   "execution_count": 1,
   "metadata": {},
   "outputs": [],
   "source": [
    "import sqlite3\n",
    "import pandas as pd\n",
    "import csv as c"
   ]
  },
  {
   "cell_type": "code",
   "execution_count": null,
   "metadata": {},
   "outputs": [],
   "source": [
    "#Connect to our Sqlite data.\n",
    "\n",
    "conn = sqlite3.connect('testing.db')\n",
    "c = conn.cursor()\n",
    "\n",
    "#Query to select emails that contain the @ symbol\n",
    "\n",
    "data = pd.read_sql('select email from data where email like \"%@%\"',conn)\n",
    "data"
   ]
  },
  {
   "cell_type": "markdown",
   "metadata": {},
   "source": [
    "## No data will be shown due to privacy concerns."
   ]
  },
  {
   "cell_type": "code",
   "execution_count": 3,
   "metadata": {},
   "outputs": [],
   "source": [
    "import csv, sqlite3\n",
    "\n",
    "#A script to replace unwanted email characters\n",
    "\n",
    "con = sqlite3.connect(\"testing.db\")\n",
    "cur = con.cursor()\n",
    "\n",
    "cur.execute('UPDATE data SET email= REPLACE(email,\"}\", \"\")')\n",
    "cur.execute('UPDATE data SET email= REPLACE(email,\"!\", \"\")')\n",
    "cur.execute('UPDATE data SET email= REPLACE(email,\"#\", \"\")')\n",
    "cur.execute('UPDATE data SET email= REPLACE(email,\"$\", \"\")')\n",
    "cur.execute('UPDATE data SET email= REPLACE(email,\"%\", \"\")')\n",
    "cur.execute('UPDATE data SET email= REPLACE(email,\"&\", \"\")')\n",
    "cur.execute('UPDATE data SET email= REPLACE(email,\"*\", \"\")')\n",
    "cur.execute('UPDATE data SET email= REPLACE(email,\"+\", \"\")')\n",
    "cur.execute('UPDATE data SET email= REPLACE(email,\"/\", \"\")')\n",
    "cur.execute('UPDATE data SET email= REPLACE(email,\"=\", \"\")')\n",
    "cur.execute('UPDATE data SET email= REPLACE(email,\"?\", \"\")')\n",
    "cur.execute('UPDATE data SET email= REPLACE(email,\"^\", \"\")')\n",
    "cur.execute('UPDATE data SET email= REPLACE(email,\"{\", \"\")')\n",
    "cur.execute('UPDATE data SET email= REPLACE(email,\"|\", \"\")')\n",
    "cur.execute('UPDATE data SET email= REPLACE(email,\"~\", \"\")')\n",
    "\n",
    "con.commit()\n",
    "con.close()\n"
   ]
  }
 ],
 "metadata": {
  "kernelspec": {
   "display_name": "Python 3",
   "language": "python",
   "name": "python3"
  },
  "language_info": {
   "codemirror_mode": {
    "name": "ipython",
    "version": 3
   },
   "file_extension": ".py",
   "mimetype": "text/x-python",
   "name": "python",
   "nbconvert_exporter": "python",
   "pygments_lexer": "ipython3",
   "version": "3.7.4"
  }
 },
 "nbformat": 4,
 "nbformat_minor": 1
}
